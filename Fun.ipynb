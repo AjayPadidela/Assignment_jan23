{
 "cells": [
  {
   "cell_type": "code",
   "execution_count": 1,
   "id": "66d9cd87",
   "metadata": {},
   "outputs": [
    {
     "name": "stdout",
     "output_type": "stream",
     "text": [
      "[(1, 1), (2, 4), (3, 9), (4, 16), (5, 25)]\n"
     ]
    }
   ],
   "source": [
    "L1=[]\n",
    "L2=[]\n",
    "#creating list L1\n",
    "for i in range(1,6):\n",
    "    L1.append(i)\n",
    "    \n",
    "#creating list of tuples\n",
    "for i in L1:\n",
    "    t=(i,i*i)\n",
    "    L2.append(t)\n",
    "    \n",
    "print(L2)"
   ]
  },
  {
   "cell_type": "code",
   "execution_count": null,
   "id": "38df177c",
   "metadata": {},
   "outputs": [],
   "source": []
  }
 ],
 "metadata": {
  "kernelspec": {
   "display_name": "Python 3",
   "language": "python",
   "name": "python3"
  },
  "language_info": {
   "codemirror_mode": {
    "name": "ipython",
    "version": 3
   },
   "file_extension": ".py",
   "mimetype": "text/x-python",
   "name": "python",
   "nbconvert_exporter": "python",
   "pygments_lexer": "ipython3",
   "version": "3.8.8"
  }
 },
 "nbformat": 4,
 "nbformat_minor": 5
}
